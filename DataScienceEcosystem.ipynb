{
 "cells": [
  {
   "cell_type": "markdown",
   "id": "47050775-38fd-4a0e-a751-db7d24ce0553",
   "metadata": {
    "tags": []
   },
   "source": [
    "# Data Science Tools and Ecosystem"
   ]
  },
  {
   "cell_type": "markdown",
   "id": "ee25a0ce-7c4d-46df-9bdf-21db0bbb5290",
   "metadata": {
    "tags": []
   },
   "source": [
    "## In this notebook, Data Science Tools and Ecosystem are summarized."
   ]
  },
  {
   "cell_type": "markdown",
   "id": "8e28ead7-ca27-49c0-a75d-2e698edd0caf",
   "metadata": {},
   "source": [
    "Some of the popular languages that Data Scientists use are:\n",
    "1. Python \n",
    "2. Julia\n",
    "3. R\n",
    "4. Java"
   ]
  },
  {
   "cell_type": "markdown",
   "id": "83add11a-7771-4a6a-b625-d2e7ad7e602e",
   "metadata": {},
   "source": [
    "Some of the popular languages that Data Scientists use are:\n",
    "1. Pandas\n",
    "2. NumPy\n",
    "3. Matplotlib "
   ]
  },
  {
   "cell_type": "markdown",
   "id": "be42e141-4c99-4e77-acb1-c4bbb3d674cc",
   "metadata": {},
   "source": [
    "| Data Science Tools     |\n",
    "--------------------------\n",
    "| Jupyter Notebook       |\n",
    "| Vs code with extension |\n",
    "| R Studio               "
   ]
  },
  {
   "cell_type": "markdown",
   "id": "a5e8e842-bdef-4630-b824-a1ed3ddf7cb8",
   "metadata": {},
   "source": [
    "### Below are a few examples of evaluating arithmetic expressions in Python"
   ]
  },
  {
   "cell_type": "code",
   "execution_count": null,
   "id": "f9dfb28e-9ee3-4da1-981f-9b1902a225b1",
   "metadata": {},
   "outputs": [],
   "source": [
    "# This a simple arithmetic expression to mutiply then add integers\n"
   ]
  }
 ],
 "metadata": {
  "kernelspec": {
   "display_name": "Python",
   "language": "python",
   "name": "conda-env-python-py"
  },
  "language_info": {
   "codemirror_mode": {
    "name": "ipython",
    "version": 3
   },
   "file_extension": ".py",
   "mimetype": "text/x-python",
   "name": "python",
   "nbconvert_exporter": "python",
   "pygments_lexer": "ipython3",
   "version": "3.7.12"
  }
 },
 "nbformat": 4,
 "nbformat_minor": 5
}
